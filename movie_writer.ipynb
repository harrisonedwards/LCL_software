{
 "cells": [
  {
   "cell_type": "code",
   "execution_count": 1,
   "metadata": {
    "collapsed": true
   },
   "outputs": [],
   "source": [
    "import imageio\n",
    "import os\n",
    "import cv2\n",
    "from datetime import datetime\n",
    "from tqdm import tqdm_notebook as tqdm"
   ]
  },
  {
   "cell_type": "code",
   "execution_count": 2,
   "metadata": {
    "collapsed": true
   },
   "outputs": [],
   "source": [
    "in_dir = r'C:\\Users\\Wheeler\\Desktop\\LCL_software\\Experiments\\experiment_20_09_2018___10.08.42.888353'\n",
    "out_loc = r'C:\\Users\\Wheeler\\Desktop\\LCL_software\\Experiments\\experiment_20_09_2018___10.08.42.avi'\n",
    "images = []\n",
    "clahe = cv2.createCLAHE(clipLimit=2.0, tileGridSize=(8,8))\n",
    "files = [os.path.join(in_dir, f) for f in os.listdir(in_dir) if '.tif' in f] \n",
    "\n",
    "\n",
    "def get_time(file_name):\n",
    "#     t = file_name.split('_')[-2].split('_')[0]\n",
    "    t=file_name.split('_')[-1].split('.tif')[0]\n",
    "    t = datetime.strptime(t, '%H.%M.%S.%f')\n",
    "    t = t.hour*3600 + t.minute*60 + t.second + t.microsecond/10**6\n",
    "    return t\n",
    " \n",
    "\n",
    "files.sort(key=get_time,reverse = False)\n",
    "# for file in files:\n",
    "#     print('processing...',file.split('/')[-1])\n",
    "#     img = cv2.imread(file,0)\n",
    "#     img = cv2.resize(img,(int(img.shape[1]/3),int(img.shape[0]/3)),interpolation = cv2.INTER_CUBIC)\n",
    "#     img = clahe.apply(img)\n",
    "#     images.append(img)\n",
    "# images = [images[0]] * 2 + images\n",
    "# imageio.mimsave(out_loc, images,duration=.2)\n",
    "# print('done')"
   ]
  },
  {
   "cell_type": "code",
   "execution_count": 3,
   "metadata": {},
   "outputs": [
    {
     "name": "stdout",
     "output_type": "stream",
     "text": [
      "(822, 1024, 3)\n"
     ]
    },
    {
     "data": {
      "application/vnd.jupyter.widget-view+json": {
       "model_id": "09d2a745ee4b4b68bd1b8fe19bdc89be",
       "version_major": 2,
       "version_minor": 0
      },
      "text/plain": [
       "A Jupyter Widget"
      ]
     },
     "metadata": {},
     "output_type": "display_data"
    },
    {
     "name": "stdout",
     "output_type": "stream",
     "text": [
      "\n",
      "done\n"
     ]
    }
   ],
   "source": [
    "img = cv2.imread(files[0],1)\n",
    "width = img.shape[1]\n",
    "height = img.shape[0]\n",
    "print(img.shape)\n",
    "use_clahe = False\n",
    "fourcc = cv2.VideoWriter_fourcc(*'MJPG') # Be sure to use lower case\n",
    "out = cv2.VideoWriter(out_loc, fourcc, 14.0, (int(width/1), int(height/1)))\n",
    "clahe = cv2.createCLAHE(clipLimit=2.0, tileGridSize=(8,8))\n",
    "for file in tqdm(files):\n",
    "    img = cv2.imread(file,1)\n",
    "    img = cv2.resize(img,(int(width/1),int(height/1)))\n",
    "    if use_clahe == True:\n",
    "        r,g,b = img[:,:,0],img[:,:,1],img[:,:,2]\n",
    "        r = clahe.apply(r)\n",
    "        g = clahe.apply(g)\n",
    "        b = clahe.apply(b)\n",
    "        img[:,:,0] = r\n",
    "        img[:,:,1] = g\n",
    "        img[:,:,2] = b\n",
    "    out.write(img)\n",
    "out.release()\n",
    "print('done')\n"
   ]
  },
  {
   "cell_type": "code",
   "execution_count": null,
   "metadata": {
    "collapsed": true
   },
   "outputs": [],
   "source": []
  }
 ],
 "metadata": {
  "kernelspec": {
   "display_name": "Python 3",
   "language": "python",
   "name": "python3"
  },
  "language_info": {
   "codemirror_mode": {
    "name": "ipython",
    "version": 3
   },
   "file_extension": ".py",
   "mimetype": "text/x-python",
   "name": "python",
   "nbconvert_exporter": "python",
   "pygments_lexer": "ipython3",
   "version": "3.6.3"
  }
 },
 "nbformat": 4,
 "nbformat_minor": 2
}
