{
 "cells": [
  {
   "cell_type": "code",
   "execution_count": 1,
   "metadata": {},
   "outputs": [
    {
     "ename": "ModuleNotFoundError",
     "evalue": "No module named 'tqdm'",
     "output_type": "error",
     "traceback": [
      "\u001b[1;31m---------------------------------------------------------------------------\u001b[0m",
      "\u001b[1;31mModuleNotFoundError\u001b[0m                       Traceback (most recent call last)",
      "\u001b[1;32m<ipython-input-1-b928f8d648e2>\u001b[0m in \u001b[0;36m<module>\u001b[1;34m()\u001b[0m\n\u001b[0;32m      3\u001b[0m \u001b[1;32mimport\u001b[0m \u001b[0mcv2\u001b[0m\u001b[1;33m\u001b[0m\u001b[0m\n\u001b[0;32m      4\u001b[0m \u001b[1;32mfrom\u001b[0m \u001b[0mdatetime\u001b[0m \u001b[1;32mimport\u001b[0m \u001b[0mdatetime\u001b[0m\u001b[1;33m\u001b[0m\u001b[0m\n\u001b[1;32m----> 5\u001b[1;33m \u001b[1;32mfrom\u001b[0m \u001b[0mtqdm\u001b[0m \u001b[1;32mimport\u001b[0m \u001b[0mtqdm_notebook\u001b[0m \u001b[1;32mas\u001b[0m \u001b[0mtqdm\u001b[0m\u001b[1;33m\u001b[0m\u001b[0m\n\u001b[0m",
      "\u001b[1;31mModuleNotFoundError\u001b[0m: No module named 'tqdm'"
     ]
    }
   ],
   "source": [
    "import imageio\n",
    "import os\n",
    "import cv2\n",
    "from datetime import datetime\n",
    "from tqdm import tqdm_notebook as tqdm"
   ]
  },
  {
   "cell_type": "code",
   "execution_count": null,
   "metadata": {
    "collapsed": true
   },
   "outputs": [],
   "source": [
    "in_dir = r'C:\\Users\\Wheeler\\Desktop\\LCL_software\\Experiments\\green_lysis2'\n",
    "out_loc = r'out_loc = rC:\\Users\\Wheeler\\Desktop\\LCL_software\\Experiments\\green_lysis2.avi'\n",
    "images = []\n",
    "clahe = cv2.createCLAHE(clipLimit=2.0, tileGridSize=(8,8))\n",
    "files = [os.path.join(in_dir, f) for f in os.listdir(in_dir) if '.tif' in f] \n",
    "\n",
    "\n",
    "def get_time(file_name):\n",
    "#     t = file_name.split('_')[-2].split('_')[0]\n",
    "    t=file_name.split('_')[-1].split('.tif')[0]\n",
    "    t = datetime.strptime(t, '%H.%M.%S.%f')\n",
    "    t = t.hour*3600 + t.minute*60 + t.second + t.microsecond/10**6\n",
    "    return t\n",
    " \n",
    "\n",
    "files.sort(key=get_time,reverse = False)\n",
    "# for file in files:\n",
    "#     print('processing...',file.split('/')[-1])\n",
    "#     img = cv2.imread(file,0)\n",
    "#     img = cv2.resize(img,(int(img.shape[1]/3),int(img.shape[0]/3)),interpolation = cv2.INTER_CUBIC)\n",
    "#     img = clahe.apply(img)\n",
    "#     images.append(img)\n",
    "# images = [images[0]] * 2 + images\n",
    "# imageio.mimsave(out_loc, images,duration=.2)\n",
    "# print('done')"
   ]
  },
  {
   "cell_type": "code",
   "execution_count": 3,
   "metadata": {},
   "outputs": [
    {
     "name": "stdout",
     "output_type": "stream",
     "text": [
      "(822, 1024, 3)\n"
     ]
    },
    {
     "data": {
      "application/vnd.jupyter.widget-view+json": {
       "model_id": "85c8e11a41554d8ea70ac824e6d02fcd",
       "version_major": 2,
       "version_minor": 0
      },
      "text/html": [
       "<p>Failed to display Jupyter Widget of type <code>HBox</code>.</p>\n",
       "<p>\n",
       "  If you're reading this message in the Jupyter Notebook or JupyterLab Notebook, it may mean\n",
       "  that the widgets JavaScript is still loading. If this message persists, it\n",
       "  likely means that the widgets JavaScript library is either not installed or\n",
       "  not enabled. See the <a href=\"https://ipywidgets.readthedocs.io/en/stable/user_install.html\">Jupyter\n",
       "  Widgets Documentation</a> for setup instructions.\n",
       "</p>\n",
       "<p>\n",
       "  If you're reading this message in another frontend (for example, a static\n",
       "  rendering on GitHub or <a href=\"https://nbviewer.jupyter.org/\">NBViewer</a>),\n",
       "  it may mean that your frontend doesn't currently support widgets.\n",
       "</p>\n"
      ],
      "text/plain": [
       "HBox(children=(IntProgress(value=0, max=1278), HTML(value='')))"
      ]
     },
     "metadata": {},
     "output_type": "display_data"
    },
    {
     "name": "stdout",
     "output_type": "stream",
     "text": [
      "\n",
      "done\n"
     ]
    }
   ],
   "source": [
    "img = cv2.imread(files[0],1)\n",
    "width = img.shape[1]\n",
    "height = img.shape[0]\n",
    "print(img.shape)\n",
    "use_clahe = True\n",
    "fourcc = cv2.VideoWriter_fourcc(*'MJPG') # Be sure to use lower case\n",
    "out = cv2.VideoWriter(out_loc, fourcc, 6.0, (int(width/1), int(height/1)))\n",
    "clahe = cv2.createCLAHE(clipLimit=2.0, tileGridSize=(8,8))\n",
    "for file in tqdm(files):\n",
    "    img = cv2.imread(file,1)\n",
    "    img = cv2.resize(img,(int(width/1),int(height/1)))\n",
    "    if use_clahe == True:\n",
    "        r,g,b = img[:,:,0],img[:,:,1],img[:,:,2]\n",
    "        r = clahe.apply(r)\n",
    "        g = clahe.apply(g)\n",
    "        b = clahe.apply(b)\n",
    "        img[:,:,0] = r\n",
    "        img[:,:,1] = g\n",
    "        img[:,:,2] = b\n",
    "    out.write(img)\n",
    "out.release()\n",
    "print('done')\n"
   ]
  },
  {
   "cell_type": "code",
   "execution_count": null,
   "metadata": {
    "collapsed": true
   },
   "outputs": [],
   "source": []
  }
 ],
 "metadata": {
  "kernelspec": {
   "display_name": "Python 3",
   "language": "python",
   "name": "python3"
  },
  "language_info": {
   "codemirror_mode": {
    "name": "ipython",
    "version": 3
   },
   "file_extension": ".py",
   "mimetype": "text/x-python",
   "name": "python",
   "nbconvert_exporter": "python",
   "pygments_lexer": "ipython3",
   "version": "3.6.3"
  }
 },
 "nbformat": 4,
 "nbformat_minor": 2
}
